{
  "nbformat": 4,
  "nbformat_minor": 0,
  "metadata": {
    "colab": {
      "name": "BayesianNetworkLungCancer.ipynb",
      "provenance": [],
      "collapsed_sections": []
    },
    "kernelspec": {
      "name": "python3",
      "display_name": "Python 3"
    },
    "language_info": {
      "name": "python"
    }
  },
  "cells": [
    {
      "cell_type": "code",
      "metadata": {
        "colab": {
          "base_uri": "https://localhost:8080/"
        },
        "id": "fDS1DCnV9_-3",
        "outputId": "f0e1e653-d06c-45bd-b1aa-6ac76ae1a317"
      },
      "source": [
        "!pip install pgmpy"
      ],
      "execution_count": 1,
      "outputs": [
        {
          "output_type": "stream",
          "text": [
            "Collecting pgmpy\n",
            "\u001b[?25l  Downloading https://files.pythonhosted.org/packages/a3/0e/d9fadbfaa35e010c04d43acd3ae9fbefec98897dd7d61a6b7eb5a8b34072/pgmpy-0.1.14-py3-none-any.whl (331kB)\n",
            "\r\u001b[K     |█                               | 10kB 14.4MB/s eta 0:00:01\r\u001b[K     |██                              | 20kB 19.0MB/s eta 0:00:01\r\u001b[K     |███                             | 30kB 11.7MB/s eta 0:00:01\r\u001b[K     |████                            | 40kB 9.6MB/s eta 0:00:01\r\u001b[K     |█████                           | 51kB 5.2MB/s eta 0:00:01\r\u001b[K     |██████                          | 61kB 5.8MB/s eta 0:00:01\r\u001b[K     |███████                         | 71kB 6.2MB/s eta 0:00:01\r\u001b[K     |████████                        | 81kB 6.5MB/s eta 0:00:01\r\u001b[K     |█████████                       | 92kB 6.5MB/s eta 0:00:01\r\u001b[K     |█████████▉                      | 102kB 4.8MB/s eta 0:00:01\r\u001b[K     |██████████▉                     | 112kB 4.8MB/s eta 0:00:01\r\u001b[K     |███████████▉                    | 122kB 4.8MB/s eta 0:00:01\r\u001b[K     |████████████▉                   | 133kB 4.8MB/s eta 0:00:01\r\u001b[K     |█████████████▉                  | 143kB 4.8MB/s eta 0:00:01\r\u001b[K     |██████████████▉                 | 153kB 4.8MB/s eta 0:00:01\r\u001b[K     |███████████████▉                | 163kB 4.8MB/s eta 0:00:01\r\u001b[K     |████████████████▉               | 174kB 4.8MB/s eta 0:00:01\r\u001b[K     |█████████████████▉              | 184kB 4.8MB/s eta 0:00:01\r\u001b[K     |██████████████████▉             | 194kB 4.8MB/s eta 0:00:01\r\u001b[K     |███████████████████▊            | 204kB 4.8MB/s eta 0:00:01\r\u001b[K     |████████████████████▊           | 215kB 4.8MB/s eta 0:00:01\r\u001b[K     |█████████████████████▊          | 225kB 4.8MB/s eta 0:00:01\r\u001b[K     |██████████████████████▊         | 235kB 4.8MB/s eta 0:00:01\r\u001b[K     |███████████████████████▊        | 245kB 4.8MB/s eta 0:00:01\r\u001b[K     |████████████████████████▊       | 256kB 4.8MB/s eta 0:00:01\r\u001b[K     |█████████████████████████▊      | 266kB 4.8MB/s eta 0:00:01\r\u001b[K     |██████████████████████████▊     | 276kB 4.8MB/s eta 0:00:01\r\u001b[K     |███████████████████████████▊    | 286kB 4.8MB/s eta 0:00:01\r\u001b[K     |████████████████████████████▊   | 296kB 4.8MB/s eta 0:00:01\r\u001b[K     |█████████████████████████████▋  | 307kB 4.8MB/s eta 0:00:01\r\u001b[K     |██████████████████████████████▋ | 317kB 4.8MB/s eta 0:00:01\r\u001b[K     |███████████████████████████████▋| 327kB 4.8MB/s eta 0:00:01\r\u001b[K     |████████████████████████████████| 337kB 4.8MB/s \n",
            "\u001b[?25hRequirement already satisfied: pyparsing in /usr/local/lib/python3.7/dist-packages (from pgmpy) (2.4.7)\n",
            "Requirement already satisfied: torch in /usr/local/lib/python3.7/dist-packages (from pgmpy) (1.8.1+cu101)\n",
            "Requirement already satisfied: pandas in /usr/local/lib/python3.7/dist-packages (from pgmpy) (1.1.5)\n",
            "Requirement already satisfied: networkx in /usr/local/lib/python3.7/dist-packages (from pgmpy) (2.5.1)\n",
            "Requirement already satisfied: scipy in /usr/local/lib/python3.7/dist-packages (from pgmpy) (1.4.1)\n",
            "Requirement already satisfied: numpy in /usr/local/lib/python3.7/dist-packages (from pgmpy) (1.19.5)\n",
            "Requirement already satisfied: scikit-learn in /usr/local/lib/python3.7/dist-packages (from pgmpy) (0.22.2.post1)\n",
            "Requirement already satisfied: statsmodels in /usr/local/lib/python3.7/dist-packages (from pgmpy) (0.10.2)\n",
            "Requirement already satisfied: joblib in /usr/local/lib/python3.7/dist-packages (from pgmpy) (1.0.1)\n",
            "Requirement already satisfied: tqdm in /usr/local/lib/python3.7/dist-packages (from pgmpy) (4.41.1)\n",
            "Requirement already satisfied: typing-extensions in /usr/local/lib/python3.7/dist-packages (from torch->pgmpy) (3.7.4.3)\n",
            "Requirement already satisfied: pytz>=2017.2 in /usr/local/lib/python3.7/dist-packages (from pandas->pgmpy) (2018.9)\n",
            "Requirement already satisfied: python-dateutil>=2.7.3 in /usr/local/lib/python3.7/dist-packages (from pandas->pgmpy) (2.8.1)\n",
            "Requirement already satisfied: decorator<5,>=4.3 in /usr/local/lib/python3.7/dist-packages (from networkx->pgmpy) (4.4.2)\n",
            "Requirement already satisfied: patsy>=0.4.0 in /usr/local/lib/python3.7/dist-packages (from statsmodels->pgmpy) (0.5.1)\n",
            "Requirement already satisfied: six>=1.5 in /usr/local/lib/python3.7/dist-packages (from python-dateutil>=2.7.3->pandas->pgmpy) (1.15.0)\n",
            "Installing collected packages: pgmpy\n",
            "Successfully installed pgmpy-0.1.14\n"
          ],
          "name": "stdout"
        }
      ]
    },
    {
      "cell_type": "code",
      "metadata": {
        "id": "d0dDSeE7-LIu"
      },
      "source": [
        "from pgmpy.models import BayesianModel\n",
        "from pgmpy.factors.discrete import TabularCPD\n",
        "from pgmpy.inference import VariableElimination"
      ],
      "execution_count": 2,
      "outputs": []
    },
    {
      "cell_type": "code",
      "metadata": {
        "colab": {
          "base_uri": "https://localhost:8080/"
        },
        "id": "x4RBcYVL-gAr",
        "outputId": "321272f3-3d07-4ea8-d274-fc85da6452b5"
      },
      "source": [
        "#Define a structure with nodes and edge\n",
        "cancer_model = BayesianModel([('Pollution', 'Cancer'),\n",
        "                              ('Smoker', 'Cancer'),\n",
        "                              ('Cancer', 'XRay'),\n",
        "                              ('Cancer', 'Dyspnoea')])\n",
        "\n",
        "print('Bayesian network nodes are: ')\n",
        "print('\\t',cancer_model.nodes())\n",
        "print('Bayesian network edges are: ')\n",
        "print('\\t',cancer_model.edges())#"
      ],
      "execution_count": 3,
      "outputs": [
        {
          "output_type": "stream",
          "text": [
            "Bayesian network nodes are: \n",
            "\t ['Pollution', 'Cancer', 'Smoker', 'XRay', 'Dyspnoea']\n",
            "Bayesian network edges are: \n",
            "\t [('Pollution', 'Cancer'), ('Cancer', 'XRay'), ('Cancer', 'Dyspnoea'), ('Smoker', 'Cancer')]\n"
          ],
          "name": "stdout"
        }
      ]
    },
    {
      "cell_type": "code",
      "metadata": {
        "id": "LWzg9WHJ-mwU"
      },
      "source": [
        "#Creation of Conditional Probability Table\n",
        "\n",
        "cpd_poll = TabularCPD(variable='Pollution', variable_card=2,\n",
        "                      values=[[0.9],[0.1]])\n",
        "cpd_smoke = TabularCPD(variable='Smoker', variable_card=2,\n",
        "                       values=[[0.3],[0.7]])\n",
        "cpd_cancer = TabularCPD(variable='Cancer', variable_card=2,\n",
        "                        values=[[0.03,0.05,0.001,0.02],\n",
        "                                [0.97,0.95,0.999,0.98]],\n",
        "                        evidence=['Smoker','Pollution'],\n",
        "                        evidence_card=[2,2])\n",
        "cpd_xray = TabularCPD(variable='XRay', variable_card=2,\n",
        "                      values=[[0.9,0.2],[0.1,0.8]],\n",
        "                      evidence=['Cancer'],\n",
        "                      evidence_card=[2])\n",
        "cpd_dysp = TabularCPD(variable='Dyspnoea', variable_card=2,\n",
        "                      values=[[0.65,0.3],[0.35,0.7]],\n",
        "                      evidence=['Cancer'],\n",
        "                      evidence_card=[2])"
      ],
      "execution_count": 4,
      "outputs": []
    },
    {
      "cell_type": "code",
      "metadata": {
        "colab": {
          "base_uri": "https://localhost:8080/"
        },
        "id": "nAd8wDxK-wp1",
        "outputId": "2b83c9f9-1652-43fc-bac4-72363525da72"
      },
      "source": [
        "#Associating the parameters with the model structure\n",
        "\n",
        "cancer_model.add_cpds(cpd_poll, cpd_smoke, cpd_cancer, cpd_xray, cpd_dysp)\n",
        "print('Model generated by adding conditional probability distributions(cpds)')"
      ],
      "execution_count": 5,
      "outputs": [
        {
          "output_type": "stream",
          "text": [
            "Model generated by adding conditional probability distributions(cpds)\n"
          ],
          "name": "stdout"
        }
      ]
    },
    {
      "cell_type": "code",
      "metadata": {
        "colab": {
          "base_uri": "https://localhost:8080/"
        },
        "id": "wxE-W8vr-3DZ",
        "outputId": "032ccba2-0c9d-4881-f678-5454f07b849c"
      },
      "source": [
        "#Checking if the cpds are valid for the model\n",
        "\n",
        "print('Checking for correctness of model: ', end=\"\")\n",
        "print(cancer_model.check_model())"
      ],
      "execution_count": 6,
      "outputs": [
        {
          "output_type": "stream",
          "text": [
            "Checking for correctness of model: True\n"
          ],
          "name": "stdout"
        }
      ]
    },
    {
      "cell_type": "code",
      "metadata": {
        "colab": {
          "base_uri": "https://localhost:8080/"
        },
        "id": "9KGW8hIA-9mv",
        "outputId": "a849719f-e7c3-4e9a-f43f-ba27d8e9d9b6"
      },
      "source": [
        "#print('All local dependencies are as follows: \\n',cancer_model.get_independencies())\n",
        "\n",
        "print(\"Displaying CPDs\")\n",
        "print(cancer_model.get_cpds('Pollution'))\n",
        "print(cancer_model.get_cpds('Smoker'))\n",
        "print(cancer_model.get_cpds('Cancer'))\n",
        "print(cancer_model.get_cpds('XRay'))\n",
        "print(cancer_model.get_cpds('Dyspnoea'))"
      ],
      "execution_count": 7,
      "outputs": [
        {
          "output_type": "stream",
          "text": [
            "Displaying CPDs\n",
            "+--------------+-----+\n",
            "| Pollution(0) | 0.9 |\n",
            "+--------------+-----+\n",
            "| Pollution(1) | 0.1 |\n",
            "+--------------+-----+\n",
            "+-----------+-----+\n",
            "| Smoker(0) | 0.3 |\n",
            "+-----------+-----+\n",
            "| Smoker(1) | 0.7 |\n",
            "+-----------+-----+\n",
            "+-----------+--------------+--------------+--------------+--------------+\n",
            "| Smoker    | Smoker(0)    | Smoker(0)    | Smoker(1)    | Smoker(1)    |\n",
            "+-----------+--------------+--------------+--------------+--------------+\n",
            "| Pollution | Pollution(0) | Pollution(1) | Pollution(0) | Pollution(1) |\n",
            "+-----------+--------------+--------------+--------------+--------------+\n",
            "| Cancer(0) | 0.03         | 0.05         | 0.001        | 0.02         |\n",
            "+-----------+--------------+--------------+--------------+--------------+\n",
            "| Cancer(1) | 0.97         | 0.95         | 0.999        | 0.98         |\n",
            "+-----------+--------------+--------------+--------------+--------------+\n",
            "+---------+-----------+-----------+\n",
            "| Cancer  | Cancer(0) | Cancer(1) |\n",
            "+---------+-----------+-----------+\n",
            "| XRay(0) | 0.9       | 0.2       |\n",
            "+---------+-----------+-----------+\n",
            "| XRay(1) | 0.1       | 0.8       |\n",
            "+---------+-----------+-----------+\n",
            "+-------------+-----------+-----------+\n",
            "| Cancer      | Cancer(0) | Cancer(1) |\n",
            "+-------------+-----------+-----------+\n",
            "| Dyspnoea(0) | 0.65      | 0.3       |\n",
            "+-------------+-----------+-----------+\n",
            "| Dyspnoea(1) | 0.35      | 0.7       |\n",
            "+-------------+-----------+-----------+\n"
          ],
          "name": "stdout"
        }
      ]
    },
    {
      "cell_type": "code",
      "metadata": {
        "id": "-GYICEzb_FOv"
      },
      "source": [
        "#Inferencing with Bayesian Network\n",
        "\n",
        "#Computing the probability of Cancer given smoke.\n",
        "cancer_infer = VariableElimination(cancer_model)"
      ],
      "execution_count": 8,
      "outputs": []
    },
    {
      "cell_type": "code",
      "metadata": {
        "colab": {
          "base_uri": "https://localhost:8080/"
        },
        "id": "Uf3H0-Zz_NhU",
        "outputId": "a72047c6-fe19-405f-e963-27ead81c9658"
      },
      "source": [
        "print(\"\\nInferencing with Bayesian Network\")\n",
        "\n",
        "print(\"\\nProbability of Cancer given Smoker\")\n",
        "q = cancer_infer.query(variables=['Cancer'], evidence={'Smoker':1})\n",
        "print(q)"
      ],
      "execution_count": 9,
      "outputs": [
        {
          "output_type": "stream",
          "text": [
            "Finding Elimination Order: : 100%|██████████| 3/3 [00:00<00:00, 886.93it/s]\n",
            "Eliminating: Pollution: 100%|██████████| 3/3 [00:00<00:00, 330.58it/s]"
          ],
          "name": "stderr"
        },
        {
          "output_type": "stream",
          "text": [
            "\n",
            "Inferencing with Bayesian Network\n",
            "\n",
            "Probability of Cancer given Smoker\n",
            "+-----------+---------------+\n",
            "| Cancer    |   phi(Cancer) |\n",
            "+===========+===============+\n",
            "| Cancer(0) |        0.0029 |\n",
            "+-----------+---------------+\n",
            "| Cancer(1) |        0.9971 |\n",
            "+-----------+---------------+\n"
          ],
          "name": "stdout"
        },
        {
          "output_type": "stream",
          "text": [
            "\n"
          ],
          "name": "stderr"
        }
      ]
    },
    {
      "cell_type": "code",
      "metadata": {
        "colab": {
          "base_uri": "https://localhost:8080/"
        },
        "id": "itsJHdAc_SRp",
        "outputId": "181e3565-a8ae-4385-ecfb-e3f3981f24c9"
      },
      "source": [
        "print(\"\\nProbability of Cancer given Smoker, Pollution\")\n",
        "q = cancer_infer.query(variables=['Cancer'], evidence={'Smoker':1, 'Pollution': 1})\n",
        "print(q)"
      ],
      "execution_count": 10,
      "outputs": [
        {
          "output_type": "stream",
          "text": [
            "Finding Elimination Order: : 100%|██████████| 2/2 [00:00<00:00, 298.01it/s]\n",
            "Eliminating: Dyspnoea: 100%|██████████| 2/2 [00:00<00:00, 373.77it/s]"
          ],
          "name": "stderr"
        },
        {
          "output_type": "stream",
          "text": [
            "\n",
            "Probability of Cancer given Smoker, Pollution\n",
            "+-----------+---------------+\n",
            "| Cancer    |   phi(Cancer) |\n",
            "+===========+===============+\n",
            "| Cancer(0) |        0.0200 |\n",
            "+-----------+---------------+\n",
            "| Cancer(1) |        0.9800 |\n",
            "+-----------+---------------+\n"
          ],
          "name": "stdout"
        },
        {
          "output_type": "stream",
          "text": [
            "\n"
          ],
          "name": "stderr"
        }
      ]
    },
    {
      "cell_type": "code",
      "metadata": {
        "id": "dflhYQsi_Uhg"
      },
      "source": [
        ""
      ],
      "execution_count": null,
      "outputs": []
    }
  ]
}